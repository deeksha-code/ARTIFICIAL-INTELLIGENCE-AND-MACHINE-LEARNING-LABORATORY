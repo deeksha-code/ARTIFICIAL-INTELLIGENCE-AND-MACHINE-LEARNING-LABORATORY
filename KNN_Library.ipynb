{
 "cells": [
  {
   "cell_type": "code",
   "execution_count": 25,
   "id": "be34cc7b",
   "metadata": {},
   "outputs": [],
   "source": [
    "from sklearn import preprocessing\n",
    "from sklearn.datasets import load_iris\n",
    "from sklearn.model_selection import train_test_split\n",
    "from sklearn.neighbors import KNeighborsClassifier\n",
    "import numpy as np\n",
    "import pandas as pd\n",
    "from sklearn import metrics"
   ]
  },
  {
   "cell_type": "code",
   "execution_count": 26,
   "id": "0c5cc50c",
   "metadata": {},
   "outputs": [],
   "source": [
    "from sklearn.metrics import confusion_matrix,classification_report"
   ]
  },
  {
   "cell_type": "code",
   "execution_count": 27,
   "id": "00ad972f",
   "metadata": {},
   "outputs": [],
   "source": [
    "iris=load_iris()\n",
    "x=iris.data\n",
    "y=iris.target"
   ]
  },
  {
   "cell_type": "code",
   "execution_count": 28,
   "id": "bb03cb2c",
   "metadata": {},
   "outputs": [
    {
     "name": "stdout",
     "output_type": "stream",
     "text": [
      "size of training data and its label (90, 4) (90,)\n",
      "size of testing data and its label (60, 4) (60,)\n"
     ]
    }
   ],
   "source": [
    "x_train,x_test,y_train,y_test=train_test_split(x,y,test_size=0.4)\n",
    "print(\"size of training data and its label\",x_train.shape,y_train.shape)\n",
    "print(\"size of testing data and its label\",x_test.shape,y_test.shape)"
   ]
  },
  {
   "cell_type": "code",
   "execution_count": 29,
   "id": "26119e1f",
   "metadata": {},
   "outputs": [
    {
     "name": "stdout",
     "output_type": "stream",
     "text": [
      "Label 0 - setosa\n",
      "Label 1 - versicolor\n",
      "Label 2 - virginica\n"
     ]
    }
   ],
   "source": [
    "for i in range(len(iris.target_names)):\n",
    "    print(\"Label\",i,\"-\",str(iris.target_names[i]))"
   ]
  },
  {
   "cell_type": "code",
   "execution_count": 30,
   "id": "4544a167",
   "metadata": {},
   "outputs": [],
   "source": [
    "classifier=KNeighborsClassifier(n_neighbors=1)"
   ]
  },
  {
   "cell_type": "code",
   "execution_count": 31,
   "id": "73fc3c5a",
   "metadata": {},
   "outputs": [
    {
     "data": {
      "text/plain": [
       "KNeighborsClassifier(n_neighbors=1)"
      ]
     },
     "execution_count": 31,
     "metadata": {},
     "output_type": "execute_result"
    }
   ],
   "source": [
    "classifier.fit(x_train,y_train)"
   ]
  },
  {
   "cell_type": "code",
   "execution_count": 32,
   "id": "7e091b22",
   "metadata": {},
   "outputs": [],
   "source": [
    "y_predict=classifier.predict(x_test)"
   ]
  },
  {
   "cell_type": "code",
   "execution_count": 35,
   "id": "530007a1",
   "metadata": {},
   "outputs": [
    {
     "name": "stdout",
     "output_type": "stream",
     "text": [
      "sample [4.8 3.1 1.6 0.2] Actual_label 0 predicted_label 0\n",
      "sample [6.5 3.  5.8 2.2] Actual_label 2 predicted_label 2\n",
      "sample [6.7 3.3 5.7 2.5] Actual_label 2 predicted_label 2\n",
      "sample [5.5 4.2 1.4 0.2] Actual_label 0 predicted_label 0\n",
      "sample [5.6 2.9 3.6 1.3] Actual_label 1 predicted_label 1\n",
      "sample [6.8 2.8 4.8 1.4] Actual_label 1 predicted_label 1\n",
      "sample [5.8 2.6 4.  1.2] Actual_label 1 predicted_label 1\n",
      "sample [4.8 3.  1.4 0.1] Actual_label 0 predicted_label 0\n",
      "sample [7.7 2.8 6.7 2. ] Actual_label 2 predicted_label 2\n",
      "sample [5.7 2.8 4.1 1.3] Actual_label 1 predicted_label 1\n",
      "sample [5.  3.3 1.4 0.2] Actual_label 0 predicted_label 0\n",
      "sample [6.5 3.  5.5 1.8] Actual_label 2 predicted_label 2\n",
      "sample [5.5 2.3 4.  1.3] Actual_label 1 predicted_label 1\n",
      "sample [6.8 3.  5.5 2.1] Actual_label 2 predicted_label 2\n",
      "sample [4.5 2.3 1.3 0.3] Actual_label 0 predicted_label 0\n",
      "sample [5.1 3.8 1.5 0.3] Actual_label 0 predicted_label 0\n",
      "sample [6.7 3.1 5.6 2.4] Actual_label 2 predicted_label 2\n",
      "sample [6.3 2.5 4.9 1.5] Actual_label 1 predicted_label 2\n",
      "sample [5.8 2.7 5.1 1.9] Actual_label 2 predicted_label 2\n",
      "sample [5.7 2.8 4.5 1.3] Actual_label 1 predicted_label 1\n",
      "sample [5.4 3.7 1.5 0.2] Actual_label 0 predicted_label 0\n",
      "sample [4.8 3.  1.4 0.3] Actual_label 0 predicted_label 0\n",
      "sample [5.5 3.5 1.3 0.2] Actual_label 0 predicted_label 0\n",
      "sample [5.4 3.4 1.7 0.2] Actual_label 0 predicted_label 0\n",
      "sample [4.9 2.5 4.5 1.7] Actual_label 2 predicted_label 1\n",
      "sample [6.6 3.  4.4 1.4] Actual_label 1 predicted_label 1\n",
      "sample [5.8 2.7 5.1 1.9] Actual_label 2 predicted_label 2\n",
      "sample [4.9 3.  1.4 0.2] Actual_label 0 predicted_label 0\n",
      "sample [5.  3.  1.6 0.2] Actual_label 0 predicted_label 0\n",
      "sample [4.6 3.4 1.4 0.3] Actual_label 0 predicted_label 0\n",
      "sample [5.7 2.5 5.  2. ] Actual_label 2 predicted_label 2\n",
      "sample [6.4 3.2 5.3 2.3] Actual_label 2 predicted_label 2\n",
      "sample [6.7 3.  5.2 2.3] Actual_label 2 predicted_label 2\n",
      "sample [5.1 3.3 1.7 0.5] Actual_label 0 predicted_label 0\n",
      "sample [5.  3.4 1.5 0.2] Actual_label 0 predicted_label 0\n",
      "sample [5.  3.2 1.2 0.2] Actual_label 0 predicted_label 0\n",
      "sample [6.3 2.9 5.6 1.8] Actual_label 2 predicted_label 2\n",
      "sample [5.8 2.7 4.1 1. ] Actual_label 1 predicted_label 1\n",
      "sample [6.  2.7 5.1 1.6] Actual_label 1 predicted_label 2\n",
      "sample [6.  2.2 5.  1.5] Actual_label 2 predicted_label 1\n",
      "sample [7.9 3.8 6.4 2. ] Actual_label 2 predicted_label 2\n",
      "sample [7.1 3.  5.9 2.1] Actual_label 2 predicted_label 2\n",
      "sample [6.3 2.7 4.9 1.8] Actual_label 2 predicted_label 2\n",
      "sample [6.6 2.9 4.6 1.3] Actual_label 1 predicted_label 1\n",
      "sample [4.4 3.  1.3 0.2] Actual_label 0 predicted_label 0\n",
      "sample [5.1 2.5 3.  1.1] Actual_label 1 predicted_label 1\n",
      "sample [6.3 2.3 4.4 1.3] Actual_label 1 predicted_label 1\n",
      "sample [5.4 3.9 1.7 0.4] Actual_label 0 predicted_label 0\n",
      "sample [6.2 2.8 4.8 1.8] Actual_label 2 predicted_label 2\n",
      "sample [5.6 3.  4.1 1.3] Actual_label 1 predicted_label 1\n",
      "sample [6.4 2.7 5.3 1.9] Actual_label 2 predicted_label 2\n",
      "sample [5.  3.4 1.6 0.4] Actual_label 0 predicted_label 0\n",
      "sample [6.9 3.1 5.1 2.3] Actual_label 2 predicted_label 2\n",
      "sample [6.4 2.9 4.3 1.3] Actual_label 1 predicted_label 1\n",
      "sample [6.7 3.1 4.4 1.4] Actual_label 1 predicted_label 1\n",
      "sample [6.5 2.8 4.6 1.5] Actual_label 1 predicted_label 1\n",
      "sample [7.7 2.6 6.9 2.3] Actual_label 2 predicted_label 2\n",
      "sample [5.5 2.5 4.  1.3] Actual_label 1 predicted_label 1\n",
      "sample [5.7 3.8 1.7 0.3] Actual_label 0 predicted_label 0\n",
      "sample [5.8 2.7 3.9 1.2] Actual_label 1 predicted_label 1\n",
      "classification Accuracy: 0.9333333333333333\n"
     ]
    }
   ],
   "source": [
    "for r in range(len(x_test)):\n",
    "    print(\"sample\",str(x_test[r]),\"Actual_label\",str(y_test[r]),\"predicted_label\",str(y_predict[r]))\n",
    "print(\"classification Accuracy:\",classifier.score(x_test,y_test))"
   ]
  },
  {
   "cell_type": "code",
   "execution_count": 34,
   "id": "ef8226e1",
   "metadata": {},
   "outputs": [
    {
     "name": "stdout",
     "output_type": "stream",
     "text": [
      "confusion Matrix\n",
      "[[20  0  0]\n",
      " [ 0 17  2]\n",
      " [ 0  2 19]]\n",
      "accuracy metrics\n",
      "              precision    recall  f1-score   support\n",
      "\n",
      "           0       1.00      1.00      1.00        20\n",
      "           1       0.89      0.89      0.89        19\n",
      "           2       0.90      0.90      0.90        21\n",
      "\n",
      "    accuracy                           0.93        60\n",
      "   macro avg       0.93      0.93      0.93        60\n",
      "weighted avg       0.93      0.93      0.93        60\n",
      "\n",
      "accuracy_score 0.9333333333333333\n"
     ]
    }
   ],
   "source": [
    "print(\"confusion Matrix\")\n",
    "print(confusion_matrix(y_test,y_predict))\n",
    "print(\"accuracy metrics\")\n",
    "print(classification_report(y_test,y_predict))\n",
    "print(\"accuracy_score\",metrics.accuracy_score(y_test,y_predict))\n"
   ]
  },
  {
   "cell_type": "code",
   "execution_count": null,
   "id": "fddb1077",
   "metadata": {},
   "outputs": [],
   "source": []
  },
  {
   "cell_type": "code",
   "execution_count": null,
   "id": "c25f54b8",
   "metadata": {},
   "outputs": [],
   "source": []
  }
 ],
 "metadata": {
  "kernelspec": {
   "display_name": "Python 3 (ipykernel)",
   "language": "python",
   "name": "python3"
  },
  "language_info": {
   "codemirror_mode": {
    "name": "ipython",
    "version": 3
   },
   "file_extension": ".py",
   "mimetype": "text/x-python",
   "name": "python",
   "nbconvert_exporter": "python",
   "pygments_lexer": "ipython3",
   "version": "3.9.12"
  }
 },
 "nbformat": 4,
 "nbformat_minor": 5
}
